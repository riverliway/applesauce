{
 "cells": [
  {
   "cell_type": "code",
   "execution_count": 1,
   "id": "92c1ff29",
   "metadata": {},
   "outputs": [],
   "source": [
    "import jax\n",
    "from jax import numpy as jnp\n",
    "from typing import Tuple\n",
    "import chex\n",
    "\n",
    "key = jax.random.key(0)"
   ]
  },
  {
   "cell_type": "code",
   "execution_count": 2,
   "id": "98b103e0",
   "metadata": {},
   "outputs": [],
   "source": [
    "from jumanji_env.environments.complex_orchard.constants import (\n",
    "    TREE_DISTANCE_ROW,\n",
    "    TREE_DISTANCE_COL,\n",
    "    TREE_VARIATION,\n",
    "    TREE_DIAMETER,\n",
    "    ORCHARD_FERTILITY,\n",
    "    ROBOT_DIAMETER,\n",
    "    BASKET_DIAMETER,\n",
    "    APPLE_DIAMETER,\n",
    "    APPLE_DENSITY,\n",
    ")\n",
    "\n",
    "from jumanji_env.environments.complex_orchard.generator import ComplexOrchardGenerator\n",
    "gen = ComplexOrchardGenerator(width=2000, height=1600, num_picker_bots=4)"
   ]
  },
  {
   "cell_type": "code",
   "execution_count": 3,
   "id": "0a580037",
   "metadata": {},
   "outputs": [
    {
     "data": {
      "text/plain": [
       "ComplexOrchardState(bots=ComplexOrchardBot(id=Array([0, 1, 2, 3], dtype=int32), position=Array([[ 400.,  200.],\n",
       "       [ 800.,  200.],\n",
       "       [1200.,  200.],\n",
       "       [1600.,  200.]], dtype=float32), diameter=Array([60, 60, 60, 60], dtype=int32, weak_type=True), holding=Array([-1, -1, -1, -1], dtype=int32, weak_type=True), job=Array([0., 0., 0., 0.], dtype=float32), orientation=Array([0., 0., 0., 0.], dtype=float32)), trees=ComplexOrchardTree(id=Array([ 0,  1,  2,  3,  4,  5,  6,  7,  8,  9, 10, 11, 12, 13, 14, 15, 16,\n",
       "       17, 18, 19, 20, 21, 22, 23, 24, 25, 26, 27, 28, 29], dtype=int32), position=Array([[ 164.54881,  226.81322],\n",
       "       [ 158.36102,  531.16876],\n",
       "       [ 164.56766,  851.78033],\n",
       "       [ 180.78163, 1191.3467 ],\n",
       "       [ 174.2184 , 1496.9141 ],\n",
       "       [ 495.22784,  219.73045],\n",
       "       [ 488.48328,  527.3298 ],\n",
       "       [ 476.9649 ,  863.4358 ],\n",
       "       [ 493.47452, 1190.8564 ],\n",
       "       [ 495.1007 , 1499.6929 ],\n",
       "       [ 821.54376,  228.9994 ],\n",
       "       [ 837.8113 ,  544.5668 ],\n",
       "       [ 802.78253,  858.004  ],\n",
       "       [ 809.39014, 1193.9318 ],\n",
       "       [ 807.2991 , 1525.6437 ],\n",
       "       [1106.5247 ,  233.63278],\n",
       "       [1143.2096 ,  535.17316],\n",
       "       [1129.851  ,  876.74585],\n",
       "       [1125.5222 , 1180.2378 ],\n",
       "       [1130.4834 , 1528.6852 ],\n",
       "       [1454.5408 ,  232.65633],\n",
       "       [1452.5447 ,  552.2849 ],\n",
       "       [1457.7358 ,  873.2566 ],\n",
       "       [1457.0398 , 1195.4197 ],\n",
       "       [1428.1946 , 1505.9996 ],\n",
       "       [1762.5059 ,  220.13051],\n",
       "       [1777.6777 ,  552.0519 ],\n",
       "       [1781.6107 ,  871.8605 ],\n",
       "       [1762.203  , 1170.9867 ],\n",
       "       [1775.4658 , 1491.6766 ]], dtype=float32), diameter=Array([35.285965, 36.330513, 42.294716, 43.34093 , 41.6633  , 41.87047 ,\n",
       "       45.244507, 40.80585 , 40.157166, 42.002003, 34.03479 , 42.40072 ,\n",
       "       40.86296 , 40.43634 , 42.503727, 45.974373, 45.546555, 42.654663,\n",
       "       40.395966, 36.78293 , 45.470993, 42.91369 , 42.86344 , 37.98158 ,\n",
       "       35.378952, 36.588165, 38.3452  , 32.37512 , 38.802845, 42.632412],      dtype=float32), fertility=Array([0.4276086 , 0.71888745, 0.0170058 , 0.8120779 , 0.02149904,\n",
       "       0.26490307, 0.904389  , 0.48451602, 0.86632955, 0.2091285 ,\n",
       "       0.43006754, 0.9168298 , 0.8090309 , 0.53028977, 0.34584677,\n",
       "       0.5402969 , 0.08790648, 0.15852547, 0.72012866, 0.6551764 ,\n",
       "       0.47532964, 0.3270694 , 0.33817172, 0.33507156, 0.8708385 ,\n",
       "       0.7201071 , 0.85573244, 0.5386989 , 0.4553944 , 0.68007934],      dtype=float32)), apples=ComplexOrchardApple(id=Array([   0,    1,    2, ..., 1047, 1048, 1049], dtype=int32), position=Array([[ 165.0497 ,  147.0864 ],\n",
       "       [ 184.38606,   94.74225],\n",
       "       [ 219.31143,   97.98033],\n",
       "       ...,\n",
       "       [1671.6632 , 1352.0825 ],\n",
       "       [1712.5088 , 1357.6346 ],\n",
       "       [1739.5782 , 1367.0548 ]], dtype=float32), diameter=Array([5.219956 , 4.8292975, 5.778276 , ..., 5.2807994, 5.934173 ,\n",
       "       4.5365653], dtype=float32), held=Array([False, False, False, ..., False, False, False], dtype=bool), collected=Array([False, False, False, ..., False, False, False], dtype=bool)), baskets=ComplexOrchardBasket(id=Array([0], dtype=int32), position=Array([[1000.,  100.]], dtype=float32), diameter=Array([100], dtype=int32, weak_type=True), held=Array([False], dtype=bool)), step_count=Array(0, dtype=int32), width=Array(2000, dtype=int32), height=Array(1600, dtype=int32), key=Array((), dtype=key<fry>) overlaying:\n",
       "[2562233961 1946702221])"
      ]
     },
     "execution_count": 3,
     "metadata": {},
     "output_type": "execute_result"
    }
   ],
   "source": [
    "state = gen.sample_orchard(key)\n",
    "state"
   ]
  },
  {
   "cell_type": "code",
   "execution_count": 4,
   "id": "4bb1c0c9",
   "metadata": {},
   "outputs": [
    {
     "name": "stderr",
     "output_type": "stream",
     "text": [
      "/opt/homebrew/lib/python3.10/site-packages/tqdm/auto.py:22: TqdmWarning: IProgress not found. Please update jupyter and ipywidgets. See https://ipywidgets.readthedocs.io/en/stable/user_install.html\n",
      "  from .autonotebook import tqdm as notebook_tqdm\n"
     ]
    },
    {
     "data": {
      "text/plain": [
       "ComplexOrchardObservation(agents_view=Array([[ 12.440796  ,  -6.9968567 ,  -0.5123229 ],\n",
       "       [-16.079834  , -24.022705  ,  -2.1606612 ],\n",
       "       [ -1.064331  ,   0.16418457,   2.988538  ],\n",
       "       [  1.201294  ,  10.579575  ,   1.4577324 ]], dtype=float32), action_mask=Array([[ True,  True,  True,  True,  True,  True,  True],\n",
       "       [ True, False, False,  True,  True,  True,  True],\n",
       "       [ True,  True,  True,  True,  True,  True,  True],\n",
       "       [ True,  True,  True,  True,  True,  True,  True]], dtype=bool), step_count=Array(0, dtype=int32))"
      ]
     },
     "execution_count": 4,
     "metadata": {},
     "output_type": "execute_result"
    }
   ],
   "source": [
    "from jumanji_env.environments.complex_orchard.observer import BasicObserver\n",
    "\n",
    "observer = BasicObserver(4, 2000, 1600, 4)\n",
    "\n",
    "observer.state_to_observation(state)"
   ]
  },
  {
   "cell_type": "code",
   "execution_count": 5,
   "id": "08247036",
   "metadata": {},
   "outputs": [
    {
     "data": {
      "text/plain": [
       "Array([[[4.030e+02, 2.000e+02, 1.000e+00],\n",
       "        [3.970e+02, 2.000e+02, 1.000e+00]],\n",
       "\n",
       "       [[8.030e+02, 2.000e+02, 0.000e+00],\n",
       "        [7.970e+02, 2.000e+02, 0.000e+00]],\n",
       "\n",
       "       [[1.203e+03, 2.000e+02, 1.000e+00],\n",
       "        [1.197e+03, 2.000e+02, 1.000e+00]],\n",
       "\n",
       "       [[1.603e+03, 2.000e+02, 1.000e+00],\n",
       "        [1.597e+03, 2.000e+02, 1.000e+00]]], dtype=float32)"
      ]
     },
     "execution_count": 5,
     "metadata": {},
     "output_type": "execute_result"
    }
   ],
   "source": [
    "from jumanji_env.environments.complex_orchard.utils import bots_possible_moves\n",
    "\n",
    "new_positions = bots_possible_moves(state)\n",
    "new_positions"
   ]
  },
  {
   "cell_type": "code",
   "execution_count": 6,
   "id": "51da0cde",
   "metadata": {},
   "outputs": [],
   "source": [
    "from jumanji_env.environments.complex_orchard.env import ComplexOrchard\n",
    "\n",
    "env = ComplexOrchard(generator=gen)\n",
    "\n",
    "state, timestep = env.reset(key)"
   ]
  },
  {
   "cell_type": "code",
   "execution_count": 7,
   "id": "53caf55c",
   "metadata": {},
   "outputs": [
    {
     "data": {
      "text/plain": [
       "(ComplexOrchardState(bots=ComplexOrchardBot(id=Array([0, 1, 2, 3], dtype=int32), position=Array([[ 400.,  200.],\n",
       "        [ 800.,  200.],\n",
       "        [1200.,  200.],\n",
       "        [1600.,  200.]], dtype=float32), diameter=Array([60, 60, 60, 60], dtype=int32, weak_type=True), holding=Array([-1, -1, -1, -1], dtype=int32, weak_type=True), job=Array([0., 0., 0., 0.], dtype=float32), orientation=Array([0., 0., 0., 0.], dtype=float32)), trees=ComplexOrchardTree(id=Array([ 0,  1,  2,  3,  4,  5,  6,  7,  8,  9, 10, 11, 12, 13, 14, 15, 16,\n",
       "        17, 18, 19, 20, 21, 22, 23, 24, 25, 26, 27, 28, 29], dtype=int32), position=Array([[ 164.54881,  226.81322],\n",
       "        [ 158.36102,  531.16876],\n",
       "        [ 164.56766,  851.78033],\n",
       "        [ 180.78163, 1191.3467 ],\n",
       "        [ 174.2184 , 1496.9141 ],\n",
       "        [ 495.22784,  219.73045],\n",
       "        [ 488.48328,  527.3298 ],\n",
       "        [ 476.9649 ,  863.4358 ],\n",
       "        [ 493.47452, 1190.8564 ],\n",
       "        [ 495.1007 , 1499.6929 ],\n",
       "        [ 821.54376,  228.9994 ],\n",
       "        [ 837.8113 ,  544.5668 ],\n",
       "        [ 802.78253,  858.004  ],\n",
       "        [ 809.39014, 1193.9318 ],\n",
       "        [ 807.2991 , 1525.6437 ],\n",
       "        [1106.5247 ,  233.63278],\n",
       "        [1143.2096 ,  535.17316],\n",
       "        [1129.851  ,  876.74585],\n",
       "        [1125.5222 , 1180.2378 ],\n",
       "        [1130.4834 , 1528.6852 ],\n",
       "        [1454.5408 ,  232.65633],\n",
       "        [1452.5447 ,  552.2849 ],\n",
       "        [1457.7358 ,  873.2566 ],\n",
       "        [1457.0398 , 1195.4197 ],\n",
       "        [1428.1946 , 1505.9996 ],\n",
       "        [1762.5059 ,  220.13051],\n",
       "        [1777.6777 ,  552.0519 ],\n",
       "        [1781.6107 ,  871.8605 ],\n",
       "        [1762.203  , 1170.9867 ],\n",
       "        [1775.4658 , 1491.6766 ]], dtype=float32), diameter=Array([35.285965, 36.330513, 42.294716, 43.34093 , 41.6633  , 41.87047 ,\n",
       "        45.244507, 40.80585 , 40.157166, 42.002003, 34.03479 , 42.40072 ,\n",
       "        40.86296 , 40.43634 , 42.503727, 45.974373, 45.546555, 42.654663,\n",
       "        40.395966, 36.78293 , 45.470993, 42.91369 , 42.86344 , 37.98158 ,\n",
       "        35.378952, 36.588165, 38.3452  , 32.37512 , 38.802845, 42.632412],      dtype=float32), fertility=Array([0.4276086 , 0.71888745, 0.0170058 , 0.8120779 , 0.02149904,\n",
       "        0.26490307, 0.904389  , 0.48451602, 0.86632955, 0.2091285 ,\n",
       "        0.43006754, 0.9168298 , 0.8090309 , 0.53028977, 0.34584677,\n",
       "        0.5402969 , 0.08790648, 0.15852547, 0.72012866, 0.6551764 ,\n",
       "        0.47532964, 0.3270694 , 0.33817172, 0.33507156, 0.8708385 ,\n",
       "        0.7201071 , 0.85573244, 0.5386989 , 0.4553944 , 0.68007934],      dtype=float32)), apples=ComplexOrchardApple(id=Array([   0,    1,    2, ..., 1047, 1048, 1049], dtype=int32), position=Array([[ 165.0497 ,  147.0864 ],\n",
       "        [ 184.38606,   94.74225],\n",
       "        [ 219.31143,   97.98033],\n",
       "        ...,\n",
       "        [1671.6632 , 1352.0825 ],\n",
       "        [1712.5088 , 1357.6346 ],\n",
       "        [1739.5782 , 1367.0548 ]], dtype=float32), diameter=Array([5.219956 , 4.8292975, 5.778276 , ..., 5.2807994, 5.934173 ,\n",
       "        4.5365653], dtype=float32), held=Array([False, False, False, ..., False, False, False], dtype=bool), collected=Array([False, False, False, ..., False, False, False], dtype=bool)), baskets=ComplexOrchardBasket(id=Array([0], dtype=int32), position=Array([[1000.,  100.]], dtype=float32), diameter=Array([100], dtype=int32, weak_type=True), held=Array([False], dtype=bool)), step_count=Array(1, dtype=int32), width=Array(2000, dtype=int32), height=Array(1600, dtype=int32), key=Array((), dtype=key<fry>) overlaying:\n",
       " [2562233961 1946702221]),\n",
       " TimeStep(step_type=Array(1, dtype=int8), reward=Array([-0.1, -0.1, -0.1, -0.1], dtype=float32, weak_type=True), discount=Array([1., 1., 1., 1.], dtype=float32), observation=ComplexOrchardObservation(agents_view=Array([[ 12.440796  ,  -6.9968567 ,  -0.5123229 ],\n",
       "        [-16.079834  , -24.022705  ,  -2.1606612 ],\n",
       "        [ -1.064331  ,   0.16418457,   2.988538  ],\n",
       "        [  1.201294  ,  10.579575  ,   1.4577324 ]], dtype=float32), action_mask=Array([[ True,  True,  True,  True,  True,  True,  True],\n",
       "        [ True, False, False,  True,  True,  True,  True],\n",
       "        [ True,  True,  True,  True,  True,  True,  True],\n",
       "        [ True,  True,  True,  True,  True,  True,  True]], dtype=bool), step_count=Array(1, dtype=int32)), extras={'percent_collected': Array(0., dtype=float32), 'number_picked': Array(0, dtype=int32)}))"
      ]
     },
     "execution_count": 7,
     "metadata": {},
     "output_type": "execute_result"
    }
   ],
   "source": [
    "from jumanji_env.environments.complex_orchard.constants import (\n",
    "    NOOP,\n",
    "    FORWARD,\n",
    "    BACKWARD,\n",
    "    LEFT,\n",
    "    RIGHT,\n",
    ")\n",
    "\n",
    "action = jnp.repeat(NOOP, 4)\n",
    "env.step(state, action)"
   ]
  },
  {
   "cell_type": "code",
   "execution_count": 8,
   "id": "8fdd6079",
   "metadata": {},
   "outputs": [],
   "source": [
    "# Now try stacking multiple environments together\n",
    "\n",
    "keys = jax.random.split(key, 5)\n",
    "env_states, timesteps = jax.vmap(env.reset, in_axes=(0))(\n",
    "    jnp.stack(keys),\n",
    ")"
   ]
  },
  {
   "cell_type": "code",
   "execution_count": 9,
   "id": "72867165",
   "metadata": {},
   "outputs": [],
   "source": [
    "# Test out having different environments getting different actions\n",
    "different_actions = [NOOP, FORWARD, BACKWARD, LEFT, RIGHT]\n",
    "actions = jnp.array([[a for _ in range(4)] for a in different_actions])\n",
    "\n",
    "new_env_states, new_timesteps = jax.vmap(env.step, in_axes=(0, 0))(env_states, actions)"
   ]
  }
 ],
 "metadata": {
  "kernelspec": {
   "display_name": "Python 3 (ipykernel)",
   "language": "python",
   "name": "python3"
  },
  "language_info": {
   "codemirror_mode": {
    "name": "ipython",
    "version": 3
   },
   "file_extension": ".py",
   "mimetype": "text/x-python",
   "name": "python",
   "nbconvert_exporter": "python",
   "pygments_lexer": "ipython3",
   "version": "3.10.14"
  }
 },
 "nbformat": 4,
 "nbformat_minor": 5
}
