{
 "cells": [
  {
   "cell_type": "code",
   "execution_count": 1,
   "id": "92c1ff29",
   "metadata": {},
   "outputs": [],
   "source": [
    "import jax\n",
    "from jax import numpy as jnp\n",
    "from typing import Tuple\n",
    "import chex\n",
    "\n",
    "key = jax.random.key(0)"
   ]
  },
  {
   "cell_type": "code",
   "execution_count": 2,
   "id": "98b103e0",
   "metadata": {},
   "outputs": [],
   "source": [
    "from jumanji_env.environments.complex_orchard.constants import (\n",
    "    TREE_DISTANCE_ROW,\n",
    "    TREE_DISTANCE_COL,\n",
    "    TREE_VARIATION,\n",
    "    TREE_DIAMETER,\n",
    "    ORCHARD_FERTILITY,\n",
    "    ROBOT_DIAMETER,\n",
    "    BASKET_DIAMETER,\n",
    "    APPLE_DIAMETER,\n",
    "    APPLE_DENSITY,\n",
    ")\n",
    "\n",
    "from jumanji_env.environments.complex_orchard.generator import ComplexOrchardGenerator\n",
    "gen = ComplexOrchardGenerator(width=2000, height=1600, num_picker_bots=4)"
   ]
  },
  {
   "cell_type": "code",
   "execution_count": 3,
   "id": "0a580037",
   "metadata": {},
   "outputs": [
    {
     "data": {
      "text/plain": [
       "ComplexOrchardState(bots=ComplexOrchardBot(id=Array([0, 1, 2, 3], dtype=int32), position=Array([[ 400.,  320.],\n",
       "       [ 800.,  320.],\n",
       "       [1200.,  320.],\n",
       "       [1600.,  320.]], dtype=float32), diameter=Array([60, 60, 60, 60], dtype=int32, weak_type=True), holding=Array([-1, -1, -1, -1], dtype=int32, weak_type=True), job=Array([0., 0., 0., 0.], dtype=float32), orientation=Array([0., 0., 0., 0.], dtype=float32)), trees=ComplexOrchardTree(id=Array([ 0,  1,  2,  3,  4,  5,  6,  7,  8,  9, 10, 11, 12, 13, 14, 15, 16,\n",
       "       17, 18, 19, 20, 21, 22, 23, 24, 25, 26, 27, 28, 29, 30, 31, 32, 33,\n",
       "       34, 35, 36, 37, 38, 39, 40, 41, 42, 43, 44], dtype=int32), position=Array([[ 288.3587 ,  588.271  ],\n",
       "       [ 306.3193 ,  784.2533 ],\n",
       "       [ 301.2496 ,  905.0596 ],\n",
       "       [ 280.61194, 1075.1935 ],\n",
       "       [ 260.1008 , 1259.1196 ],\n",
       "       [ 450.77747,  610.0664 ],\n",
       "       [ 454.6857 ,  781.78217],\n",
       "       [ 446.41635,  931.7907 ],\n",
       "       [ 445.29117, 1077.7565 ],\n",
       "       [ 463.55804, 1253.0273 ],\n",
       "       [ 611.4709 ,  614.3006 ],\n",
       "       [ 594.2395 ,  766.04816],\n",
       "       [ 605.6246 ,  923.39355],\n",
       "       [ 608.542  , 1073.1841 ],\n",
       "       [ 600.8502 , 1252.7998 ],\n",
       "       [ 778.25806,  608.8952 ],\n",
       "       [ 783.1327 ,  763.9023 ],\n",
       "       [ 763.90375,  932.19006],\n",
       "       [ 786.04443, 1085.1371 ],\n",
       "       [ 761.88715, 1264.194  ],\n",
       "       [ 930.5447 ,  614.4061 ],\n",
       "       [ 921.00903,  782.6661 ],\n",
       "       [ 928.06555,  920.9654 ],\n",
       "       [ 932.1809 , 1089.5688 ],\n",
       "       [ 928.7503 , 1272.4618 ],\n",
       "       [1098.7599 ,  603.89166],\n",
       "       [1071.3383 ,  770.3019 ],\n",
       "       [1091.4534 ,  926.05975],\n",
       "       [1097.3344 , 1103.7683 ],\n",
       "       [1094.7347 , 1251.9381 ],\n",
       "       [1256.1296 ,  597.8535 ],\n",
       "       [1253.3647 ,  772.4828 ],\n",
       "       [1255.1001 ,  935.24365],\n",
       "       [1250.3523 , 1075.0128 ],\n",
       "       [1246.0916 , 1252.1095 ],\n",
       "       [1395.6178 ,  596.2485 ],\n",
       "       [1408.2899 ,  769.12585],\n",
       "       [1398.718  ,  946.07324],\n",
       "       [1405.6609 , 1088.193  ],\n",
       "       [1408.9878 , 1246.541  ],\n",
       "       [1559.3785 ,  616.5652 ],\n",
       "       [1573.6444 ,  760.7534 ],\n",
       "       [1561.9865 ,  921.9209 ],\n",
       "       [1581.2667 , 1090.2538 ],\n",
       "       [1556.9521 , 1251.144  ]], dtype=float32), diameter=Array([41.269028, 41.6037  , 39.899006, 38.42336 , 33.168404, 35.08542 ,\n",
       "       38.72528 , 42.744453, 39.642254, 38.804214, 44.94191 , 38.10606 ,\n",
       "       37.46035 , 41.78224 , 42.00128 , 45.668636, 38.699917, 38.753914,\n",
       "       42.2904  , 35.667854, 43.337055, 38.34524 , 41.64984 , 42.50632 ,\n",
       "       39.60811 , 39.393833, 41.631218, 39.852364, 38.191883, 36.233524,\n",
       "       35.636   , 39.370766, 47.59025 , 42.663715, 37.20952 , 35.80212 ,\n",
       "       47.54992 , 42.185005, 42.972603, 35.407997, 37.025677, 40.448578,\n",
       "       36.55277 , 36.95792 , 41.332367], dtype=float32), fertility=Array([0.6482899 , 0.68478084, 0.48791456, 0.31810915, 0.02020764,\n",
       "       0.07019031, 0.35107636, 0.7948415 , 0.45726597, 0.35989654,\n",
       "       0.93090606, 0.2849555 , 0.22306132, 0.7035619 , 0.7258748 ,\n",
       "       0.9554901 , 0.34825885, 0.35426688, 0.7539965 , 0.0968616 ,\n",
       "       0.8416147 , 0.3097962 , 0.68968296, 0.7739432 , 0.453205  ,\n",
       "       0.42785013, 0.68770826, 0.48233604, 0.29375958, 0.12925005,\n",
       "       0.09523332, 0.42513645, 0.9886091 , 0.78788805, 0.20125556,\n",
       "       0.10394943, 0.98824286, 0.7439275 , 0.8137448 , 0.08416319,\n",
       "       0.18611693, 0.55352545, 0.15052843, 0.18072021, 0.65531504],      dtype=float32)), apples=ComplexOrchardApple(id=Array([   0,    1,    2, ..., 1572, 1573, 1574], dtype=int32), position=Array([[ 310.21304,  649.3425 ],\n",
       "       [ 300.51828,  667.96893],\n",
       "       [ 276.73523,  732.90137],\n",
       "       ...,\n",
       "       [1610.3378 , 1189.2935 ],\n",
       "       [1608.9219 , 1208.1886 ],\n",
       "       [1669.9498 , 1194.6395 ]], dtype=float32), diameter=Array([5.923971 , 4.5902   , 6.8584557, ..., 4.813909 , 5.163799 ,\n",
       "       4.815357 ], dtype=float32), held=Array([False, False, False, ..., False, False, False], dtype=bool), collected=Array([False, False, False, ..., False, False, False], dtype=bool)), baskets=ComplexOrchardBasket(id=Array([0], dtype=int32), position=Array([[1000.,  320.]], dtype=float32), diameter=Array([100], dtype=int32, weak_type=True), held=Array([False], dtype=bool)), step_count=Array(0, dtype=int32), width=Array(2000, dtype=int32), height=Array(1600, dtype=int32), key=Array((), dtype=key<fry>) overlaying:\n",
       "[2562233961 1946702221])"
      ]
     },
     "execution_count": 3,
     "metadata": {},
     "output_type": "execute_result"
    }
   ],
   "source": [
    "state = gen.sample_orchard(key)\n",
    "state"
   ]
  },
  {
   "cell_type": "code",
   "execution_count": 4,
   "id": "4bb1c0c9",
   "metadata": {},
   "outputs": [
    {
     "name": "stderr",
     "output_type": "stream",
     "text": [
      "/opt/homebrew/lib/python3.10/site-packages/tqdm/auto.py:22: TqdmWarning: IProgress not found. Please update jupyter and ipywidgets. See https://ipywidgets.readthedocs.io/en/stable/user_install.html\n",
      "  from .autonotebook import tqdm as notebook_tqdm\n"
     ]
    },
    {
     "data": {
      "text/plain": [
       "ComplexOrchardObservation(agents_view=Array([[-77.46457  ,  95.35062  ,   2.2530634],\n",
       "       [ 18.707031 ,  96.351654 ,   1.3790286],\n",
       "       [-83.630005 , 112.17703  ,   2.2114232],\n",
       "       [-21.97522  , 152.72845  ,   1.7136996]], dtype=float32), action_mask=Array([[ True,  True,  True,  True,  True,  True,  True],\n",
       "       [ True,  True,  True,  True,  True,  True,  True],\n",
       "       [ True,  True,  True,  True,  True,  True,  True],\n",
       "       [ True,  True,  True,  True,  True,  True,  True]], dtype=bool), step_count=Array(0, dtype=int32))"
      ]
     },
     "execution_count": 4,
     "metadata": {},
     "output_type": "execute_result"
    }
   ],
   "source": [
    "from jumanji_env.environments.complex_orchard.observer import BasicObserver\n",
    "\n",
    "observer = BasicObserver(4, 2000, 1600, 4)\n",
    "\n",
    "observer.state_to_observation(state)"
   ]
  },
  {
   "cell_type": "code",
   "execution_count": 5,
   "id": "08247036",
   "metadata": {},
   "outputs": [
    {
     "data": {
      "text/plain": [
       "Array([[[4.030e+02, 3.200e+02, 1.000e+00],\n",
       "        [3.970e+02, 3.200e+02, 1.000e+00]],\n",
       "\n",
       "       [[8.030e+02, 3.200e+02, 1.000e+00],\n",
       "        [7.970e+02, 3.200e+02, 1.000e+00]],\n",
       "\n",
       "       [[1.203e+03, 3.200e+02, 1.000e+00],\n",
       "        [1.197e+03, 3.200e+02, 1.000e+00]],\n",
       "\n",
       "       [[1.603e+03, 3.200e+02, 1.000e+00],\n",
       "        [1.597e+03, 3.200e+02, 1.000e+00]]], dtype=float32)"
      ]
     },
     "execution_count": 5,
     "metadata": {},
     "output_type": "execute_result"
    }
   ],
   "source": [
    "from jumanji_env.environments.complex_orchard.utils import bots_possible_moves\n",
    "\n",
    "new_positions = bots_possible_moves(state)\n",
    "new_positions"
   ]
  },
  {
   "cell_type": "code",
   "execution_count": 6,
   "id": "51da0cde",
   "metadata": {},
   "outputs": [
    {
     "name": "stdout",
     "output_type": "stream",
     "text": [
      "key passed to env.reset: Array((), dtype=key<fry>) overlaying:\n",
      "[0 0], type: <class 'jax._src.prng.PRNGKeyArray'>\n"
     ]
    }
   ],
   "source": [
    "from jumanji_env.environments.complex_orchard.env import ComplexOrchard\n",
    "\n",
    "env = ComplexOrchard(generator=gen)\n",
    "\n",
    "state, timestep = env.reset(key)"
   ]
  },
  {
   "cell_type": "code",
   "execution_count": 7,
   "id": "96ab822c",
   "metadata": {},
   "outputs": [
    {
     "data": {
      "text/plain": [
       "(ComplexOrchardState(bots=ComplexOrchardBot(id=Array([0, 1, 2, 3], dtype=int32), position=Array([[ 400.,  320.],\n",
       "        [ 800.,  320.],\n",
       "        [1200.,  320.],\n",
       "        [1600.,  320.]], dtype=float32), diameter=Array([60, 60, 60, 60], dtype=int32, weak_type=True), holding=Array([-1, -1, -1, -1], dtype=int32, weak_type=True), job=Array([0., 0., 0., 0.], dtype=float32), orientation=Array([0., 0., 0., 0.], dtype=float32)), trees=ComplexOrchardTree(id=Array([ 0,  1,  2,  3,  4,  5,  6,  7,  8,  9, 10, 11, 12, 13, 14, 15, 16,\n",
       "        17, 18, 19, 20, 21, 22, 23, 24, 25, 26, 27, 28, 29, 30, 31, 32, 33,\n",
       "        34, 35, 36, 37, 38, 39, 40, 41, 42, 43, 44], dtype=int32), position=Array([[ 288.3587 ,  588.271  ],\n",
       "        [ 306.3193 ,  784.2533 ],\n",
       "        [ 301.2496 ,  905.0596 ],\n",
       "        [ 280.61194, 1075.1935 ],\n",
       "        [ 260.1008 , 1259.1196 ],\n",
       "        [ 450.77747,  610.0664 ],\n",
       "        [ 454.6857 ,  781.78217],\n",
       "        [ 446.41635,  931.7907 ],\n",
       "        [ 445.29117, 1077.7565 ],\n",
       "        [ 463.55804, 1253.0273 ],\n",
       "        [ 611.4709 ,  614.3006 ],\n",
       "        [ 594.2395 ,  766.04816],\n",
       "        [ 605.6246 ,  923.39355],\n",
       "        [ 608.542  , 1073.1841 ],\n",
       "        [ 600.8502 , 1252.7998 ],\n",
       "        [ 778.25806,  608.8952 ],\n",
       "        [ 783.1327 ,  763.9023 ],\n",
       "        [ 763.90375,  932.19006],\n",
       "        [ 786.04443, 1085.1371 ],\n",
       "        [ 761.88715, 1264.194  ],\n",
       "        [ 930.5447 ,  614.4061 ],\n",
       "        [ 921.00903,  782.6661 ],\n",
       "        [ 928.06555,  920.9654 ],\n",
       "        [ 932.1809 , 1089.5688 ],\n",
       "        [ 928.7503 , 1272.4618 ],\n",
       "        [1098.7599 ,  603.89166],\n",
       "        [1071.3383 ,  770.3019 ],\n",
       "        [1091.4534 ,  926.05975],\n",
       "        [1097.3344 , 1103.7683 ],\n",
       "        [1094.7347 , 1251.9381 ],\n",
       "        [1256.1296 ,  597.8535 ],\n",
       "        [1253.3647 ,  772.4828 ],\n",
       "        [1255.1001 ,  935.24365],\n",
       "        [1250.3523 , 1075.0128 ],\n",
       "        [1246.0916 , 1252.1095 ],\n",
       "        [1395.6178 ,  596.2485 ],\n",
       "        [1408.2899 ,  769.12585],\n",
       "        [1398.718  ,  946.07324],\n",
       "        [1405.6609 , 1088.193  ],\n",
       "        [1408.9878 , 1246.541  ],\n",
       "        [1559.3785 ,  616.5652 ],\n",
       "        [1573.6444 ,  760.7534 ],\n",
       "        [1561.9865 ,  921.9209 ],\n",
       "        [1581.2667 , 1090.2538 ],\n",
       "        [1556.9521 , 1251.144  ]], dtype=float32), diameter=Array([41.269028, 41.6037  , 39.899006, 38.42336 , 33.168404, 35.08542 ,\n",
       "        38.72528 , 42.744453, 39.642254, 38.804214, 44.94191 , 38.10606 ,\n",
       "        37.46035 , 41.78224 , 42.00128 , 45.668636, 38.699917, 38.753914,\n",
       "        42.2904  , 35.667854, 43.337055, 38.34524 , 41.64984 , 42.50632 ,\n",
       "        39.60811 , 39.393833, 41.631218, 39.852364, 38.191883, 36.233524,\n",
       "        35.636   , 39.370766, 47.59025 , 42.663715, 37.20952 , 35.80212 ,\n",
       "        47.54992 , 42.185005, 42.972603, 35.407997, 37.025677, 40.448578,\n",
       "        36.55277 , 36.95792 , 41.332367], dtype=float32), fertility=Array([0.6482899 , 0.68478084, 0.48791456, 0.31810915, 0.02020764,\n",
       "        0.07019031, 0.35107636, 0.7948415 , 0.45726597, 0.35989654,\n",
       "        0.93090606, 0.2849555 , 0.22306132, 0.7035619 , 0.7258748 ,\n",
       "        0.9554901 , 0.34825885, 0.35426688, 0.7539965 , 0.0968616 ,\n",
       "        0.8416147 , 0.3097962 , 0.68968296, 0.7739432 , 0.453205  ,\n",
       "        0.42785013, 0.68770826, 0.48233604, 0.29375958, 0.12925005,\n",
       "        0.09523332, 0.42513645, 0.9886091 , 0.78788805, 0.20125556,\n",
       "        0.10394943, 0.98824286, 0.7439275 , 0.8137448 , 0.08416319,\n",
       "        0.18611693, 0.55352545, 0.15052843, 0.18072021, 0.65531504],      dtype=float32)), apples=ComplexOrchardApple(id=Array([   0,    1,    2, ..., 1572, 1573, 1574], dtype=int32), position=Array([[ 310.21304,  649.3425 ],\n",
       "        [ 300.51828,  667.96893],\n",
       "        [ 276.73523,  732.90137],\n",
       "        ...,\n",
       "        [1610.3378 , 1189.2935 ],\n",
       "        [1608.9219 , 1208.1886 ],\n",
       "        [1669.9498 , 1194.6395 ]], dtype=float32), diameter=Array([5.923971 , 4.5902   , 6.8584557, ..., 4.813909 , 5.163799 ,\n",
       "        4.815357 ], dtype=float32), held=Array([False, False, False, ..., False, False, False], dtype=bool), collected=Array([False, False, False, ..., False, False, False], dtype=bool)), baskets=ComplexOrchardBasket(id=Array([0], dtype=int32), position=Array([[1000.,  320.]], dtype=float32), diameter=Array([100], dtype=int32, weak_type=True), held=Array([False], dtype=bool)), step_count=Array(1, dtype=int32), width=Array(2000, dtype=int32), height=Array(1600, dtype=int32), key=Array((), dtype=key<fry>) overlaying:\n",
       " [2562233961 1946702221]),\n",
       " TimeStep(step_type=Array(1, dtype=int8), reward=Array([0., 0., 0., 0.], dtype=float32, weak_type=True), discount=Array([1., 1., 1., 1.], dtype=float32), observation=ComplexOrchardObservation(agents_view=Array([[-77.46457  ,  95.35062  ,   2.2530634],\n",
       "        [ 18.707031 ,  96.351654 ,   1.3790286],\n",
       "        [-83.630005 , 112.17703  ,   2.2114232],\n",
       "        [-21.97522  , 152.72845  ,   1.7136996]], dtype=float32), action_mask=Array([[ True,  True,  True,  True,  True,  True,  True],\n",
       "        [ True,  True,  True,  True,  True,  True,  True],\n",
       "        [ True,  True,  True,  True,  True,  True,  True],\n",
       "        [ True,  True,  True,  True,  True,  True,  True]], dtype=bool), step_count=Array(0, dtype=int32)), extras={'percent_eaten': Array(0., dtype=float32)}))"
      ]
     },
     "execution_count": 7,
     "metadata": {},
     "output_type": "execute_result"
    }
   ],
   "source": [
    "from jumanji_env.environments.complex_orchard.constants import (\n",
    "    NOOP,\n",
    "    FORWARD,\n",
    "    BACKWARD,\n",
    "    LEFT,\n",
    "    RIGHT,\n",
    ")\n",
    "\n",
    "action = jnp.repeat(NOOP, 4)\n",
    "env.step(state, action)"
   ]
  },
  {
   "cell_type": "code",
   "execution_count": 8,
   "id": "8fdd6079",
   "metadata": {},
   "outputs": [
    {
     "name": "stdout",
     "output_type": "stream",
     "text": [
      "key passed to env.reset: Traced<ShapedArray(key<fry>[])>with<BatchTrace(level=1/0)> with\n",
      "  val = Array((5,), dtype=key<fry>) overlaying:\n",
      "[[1524306142 2595015335]\n",
      " [1836460763  990488084]\n",
      " [1416732029 1887795613]\n",
      " [1078027127 1191019179]\n",
      " [3297765038 3069809391]]\n",
      "  batch_dim = 0, type: <class 'jax._src.interpreters.batching.BatchTracer'>\n"
     ]
    }
   ],
   "source": [
    "# Now try stacking multiple environments together\n",
    "\n",
    "keys = jax.random.split(key, 5)\n",
    "env_states, timesteps = jax.vmap(env.reset, in_axes=(0))(\n",
    "    jnp.stack(keys),\n",
    ")"
   ]
  },
  {
   "cell_type": "code",
   "execution_count": 9,
   "id": "4f9873bd",
   "metadata": {},
   "outputs": [
    {
     "ename": "NonConcreteBooleanIndexError",
     "evalue": "Array boolean indices must be concrete; got ShapedArray(bool[4])\n\nSee https://jax.readthedocs.io/en/latest/errors.html#jax.errors.NonConcreteBooleanIndexError",
     "output_type": "error",
     "traceback": [
      "\u001b[0;31m---------------------------------------------------------------------------\u001b[0m",
      "\u001b[0;31mNonConcreteBooleanIndexError\u001b[0m              Traceback (most recent call last)",
      "Cell \u001b[0;32mIn[9], line 5\u001b[0m\n\u001b[1;32m      2\u001b[0m different_actions \u001b[38;5;241m=\u001b[39m [NOOP, FORWARD, BACKWARD, LEFT, RIGHT]\n\u001b[1;32m      3\u001b[0m actions \u001b[38;5;241m=\u001b[39m jnp\u001b[38;5;241m.\u001b[39marray([[a \u001b[38;5;28;01mfor\u001b[39;00m _ \u001b[38;5;129;01min\u001b[39;00m \u001b[38;5;28mrange\u001b[39m(\u001b[38;5;241m4\u001b[39m)] \u001b[38;5;28;01mfor\u001b[39;00m a \u001b[38;5;129;01min\u001b[39;00m different_actions])\n\u001b[0;32m----> 5\u001b[0m new_env_states, new_timesteps \u001b[38;5;241m=\u001b[39m \u001b[43mjax\u001b[49m\u001b[38;5;241;43m.\u001b[39;49m\u001b[43mvmap\u001b[49m\u001b[43m(\u001b[49m\u001b[43menv\u001b[49m\u001b[38;5;241;43m.\u001b[39;49m\u001b[43mstep\u001b[49m\u001b[43m,\u001b[49m\u001b[43m \u001b[49m\u001b[43min_axes\u001b[49m\u001b[38;5;241;43m=\u001b[39;49m\u001b[43m(\u001b[49m\u001b[38;5;241;43m0\u001b[39;49m\u001b[43m,\u001b[49m\u001b[43m \u001b[49m\u001b[38;5;241;43m0\u001b[39;49m\u001b[43m)\u001b[49m\u001b[43m)\u001b[49m\u001b[43m(\u001b[49m\u001b[43menv_states\u001b[49m\u001b[43m,\u001b[49m\u001b[43m \u001b[49m\u001b[43mactions\u001b[49m\u001b[43m)\u001b[49m\n",
      "    \u001b[0;31m[... skipping hidden 3 frame]\u001b[0m\n",
      "File \u001b[0;32m~/Desktop/code/berkeley/210/applesauce/python/jumanji_env/environments/complex_orchard/env.py:119\u001b[0m, in \u001b[0;36mComplexOrchard.step\u001b[0;34m(self, state, actions)\u001b[0m\n\u001b[1;32m    108\u001b[0m \u001b[38;5;124;03m\"\"\"Simulate one step of the environment.\u001b[39;00m\n\u001b[1;32m    109\u001b[0m \n\u001b[1;32m    110\u001b[0m \u001b[38;5;124;03mArgs:\u001b[39;00m\n\u001b[0;32m   (...)\u001b[0m\n\u001b[1;32m    116\u001b[0m \u001b[38;5;124;03m    `TimeStep` object corresponding the timestep returned by the environment.\u001b[39;00m\n\u001b[1;32m    117\u001b[0m \u001b[38;5;124;03m\"\"\"\u001b[39;00m\n\u001b[1;32m    118\u001b[0m \u001b[38;5;66;03m# Perform the actions for the bots\u001b[39;00m\n\u001b[0;32m--> 119\u001b[0m new_bot_positions, did_collide \u001b[38;5;241m=\u001b[39m \u001b[38;5;28;43mself\u001b[39;49m\u001b[38;5;241;43m.\u001b[39;49m\u001b[43m_perform_movement\u001b[49m\u001b[43m(\u001b[49m\u001b[43mstate\u001b[49m\u001b[43m,\u001b[49m\u001b[43m \u001b[49m\u001b[43mactions\u001b[49m\u001b[43m \u001b[49m\u001b[38;5;241;43m==\u001b[39;49m\u001b[43m \u001b[49m\u001b[43mFORWARD\u001b[49m\u001b[43m,\u001b[49m\u001b[43m \u001b[49m\u001b[43mactions\u001b[49m\u001b[43m \u001b[49m\u001b[38;5;241;43m==\u001b[39;49m\u001b[43m \u001b[49m\u001b[43mBACKWARD\u001b[49m\u001b[43m)\u001b[49m\n\u001b[1;32m    120\u001b[0m new_bot_orientations \u001b[38;5;241m=\u001b[39m \u001b[38;5;28mself\u001b[39m\u001b[38;5;241m.\u001b[39m_perform_turn(state, actions \u001b[38;5;241m==\u001b[39m LEFT, actions \u001b[38;5;241m==\u001b[39m RIGHT)\n\u001b[1;32m    121\u001b[0m new_holding, new_held, did_try_bad_pick \u001b[38;5;241m=\u001b[39m \u001b[38;5;28mself\u001b[39m\u001b[38;5;241m.\u001b[39m_perform_pick(state, actions \u001b[38;5;241m==\u001b[39m PICK)\n",
      "File \u001b[0;32m~/Desktop/code/berkeley/210/applesauce/python/jumanji_env/environments/complex_orchard/env.py:250\u001b[0m, in \u001b[0;36mComplexOrchard._perform_movement\u001b[0;34m(self, state, move_forwards_mask, move_backwards_mask)\u001b[0m\n\u001b[1;32m    247\u001b[0m is_intersecting_other_bots: JaxArray[\u001b[38;5;124m'\u001b[39m\u001b[38;5;124mnum_bots\u001b[39m\u001b[38;5;124m'\u001b[39m] \u001b[38;5;241m=\u001b[39m jnp\u001b[38;5;241m.\u001b[39many(is_intersecting_other_bots \u001b[38;5;241m&\u001b[39m (\u001b[38;5;241m~\u001b[39mmask), axis\u001b[38;5;241m=\u001b[39m\u001b[38;5;241m1\u001b[39m)\n\u001b[1;32m    249\u001b[0m \u001b[38;5;66;03m# If any bots are intersecting with each other, then revert their position to before moving\u001b[39;00m\n\u001b[0;32m--> 250\u001b[0m new_positions: JaxArray[\u001b[38;5;124m'\u001b[39m\u001b[38;5;124mnum_bots\u001b[39m\u001b[38;5;124m'\u001b[39m, \u001b[38;5;241m2\u001b[39m] \u001b[38;5;241m=\u001b[39m \u001b[43mstate\u001b[49m\u001b[38;5;241;43m.\u001b[39;49m\u001b[43mbots\u001b[49m\u001b[38;5;241;43m.\u001b[39;49m\u001b[43mposition\u001b[49m\u001b[38;5;241;43m.\u001b[39;49m\u001b[43mat\u001b[49m\u001b[43m[\u001b[49m\u001b[43mis_intersecting_other_bots\u001b[49m\u001b[43m]\u001b[49m\u001b[38;5;241;43m.\u001b[39;49m\u001b[43mset\u001b[49m\u001b[43m(\u001b[49m\u001b[43mstate\u001b[49m\u001b[38;5;241;43m.\u001b[39;49m\u001b[43mbots\u001b[49m\u001b[38;5;241;43m.\u001b[39;49m\u001b[43mposition\u001b[49m\u001b[43m)\u001b[49m\n\u001b[1;32m    252\u001b[0m \u001b[38;5;66;03m# Calculate if the bots collided or if they tried to run into something\u001b[39;00m\n\u001b[1;32m    253\u001b[0m did_collide: JaxArray[\u001b[38;5;124m'\u001b[39m\u001b[38;5;124mnum_bots\u001b[39m\u001b[38;5;124m'\u001b[39m] \u001b[38;5;241m=\u001b[39m is_intersecting_other_bots \u001b[38;5;241m|\u001b[39m (move_forwards_mask \u001b[38;5;241m&\u001b[39m \u001b[38;5;241m~\u001b[39mcan_forwards) \u001b[38;5;241m|\u001b[39m (move_backwards_mask \u001b[38;5;241m&\u001b[39m \u001b[38;5;241m~\u001b[39mcan_backwards)\n",
      "File \u001b[0;32m/opt/homebrew/lib/python3.10/site-packages/jax/_src/numpy/array_methods.py:788\u001b[0m, in \u001b[0;36m_IndexUpdateRef.set\u001b[0;34m(self, values, indices_are_sorted, unique_indices, mode)\u001b[0m\n\u001b[1;32m    779\u001b[0m \u001b[38;5;28;01mdef\u001b[39;00m \u001b[38;5;21mset\u001b[39m(\u001b[38;5;28mself\u001b[39m, values, \u001b[38;5;241m*\u001b[39m, indices_are_sorted\u001b[38;5;241m=\u001b[39m\u001b[38;5;28;01mFalse\u001b[39;00m, unique_indices\u001b[38;5;241m=\u001b[39m\u001b[38;5;28;01mFalse\u001b[39;00m,\n\u001b[1;32m    780\u001b[0m         mode\u001b[38;5;241m=\u001b[39m\u001b[38;5;28;01mNone\u001b[39;00m):\n\u001b[1;32m    781\u001b[0m   \u001b[38;5;124;03m\"\"\"Pure equivalent of ``x[idx] = y``.\u001b[39;00m\n\u001b[1;32m    782\u001b[0m \n\u001b[1;32m    783\u001b[0m \u001b[38;5;124;03m  Returns the value of ``x`` that would result from the NumPy-style\u001b[39;00m\n\u001b[0;32m   (...)\u001b[0m\n\u001b[1;32m    786\u001b[0m \u001b[38;5;124;03m  See :mod:`jax.ops` for details.\u001b[39;00m\n\u001b[1;32m    787\u001b[0m \u001b[38;5;124;03m  \"\"\"\u001b[39;00m\n\u001b[0;32m--> 788\u001b[0m   \u001b[38;5;28;01mreturn\u001b[39;00m \u001b[43mscatter\u001b[49m\u001b[38;5;241;43m.\u001b[39;49m\u001b[43m_scatter_update\u001b[49m\u001b[43m(\u001b[49m\u001b[38;5;28;43mself\u001b[39;49m\u001b[38;5;241;43m.\u001b[39;49m\u001b[43marray\u001b[49m\u001b[43m,\u001b[49m\u001b[43m \u001b[49m\u001b[38;5;28;43mself\u001b[39;49m\u001b[38;5;241;43m.\u001b[39;49m\u001b[43mindex\u001b[49m\u001b[43m,\u001b[49m\u001b[43m \u001b[49m\u001b[43mvalues\u001b[49m\u001b[43m,\u001b[49m\u001b[43m \u001b[49m\u001b[43mlax\u001b[49m\u001b[38;5;241;43m.\u001b[39;49m\u001b[43mscatter\u001b[49m\u001b[43m,\u001b[49m\n\u001b[1;32m    789\u001b[0m \u001b[43m                                 \u001b[49m\u001b[43mindices_are_sorted\u001b[49m\u001b[38;5;241;43m=\u001b[39;49m\u001b[43mindices_are_sorted\u001b[49m\u001b[43m,\u001b[49m\n\u001b[1;32m    790\u001b[0m \u001b[43m                                 \u001b[49m\u001b[43munique_indices\u001b[49m\u001b[38;5;241;43m=\u001b[39;49m\u001b[43munique_indices\u001b[49m\u001b[43m,\u001b[49m\u001b[43m \u001b[49m\u001b[43mmode\u001b[49m\u001b[38;5;241;43m=\u001b[39;49m\u001b[43mmode\u001b[49m\u001b[43m)\u001b[49m\n",
      "File \u001b[0;32m/opt/homebrew/lib/python3.10/site-packages/jax/_src/ops/scatter.py:75\u001b[0m, in \u001b[0;36m_scatter_update\u001b[0;34m(x, idx, y, scatter_op, indices_are_sorted, unique_indices, mode, normalize_indices)\u001b[0m\n\u001b[1;32m     71\u001b[0m   y \u001b[38;5;241m=\u001b[39m jnp\u001b[38;5;241m.\u001b[39masarray(y)\n\u001b[1;32m     73\u001b[0m \u001b[38;5;66;03m# XLA gathers and scatters are very similar in structure; the scatter logic\u001b[39;00m\n\u001b[1;32m     74\u001b[0m \u001b[38;5;66;03m# is more or less a transpose of the gather equivalent.\u001b[39;00m\n\u001b[0;32m---> 75\u001b[0m treedef, static_idx, dynamic_idx \u001b[38;5;241m=\u001b[39m \u001b[43mjnp\u001b[49m\u001b[38;5;241;43m.\u001b[39;49m\u001b[43m_split_index_for_jit\u001b[49m\u001b[43m(\u001b[49m\u001b[43midx\u001b[49m\u001b[43m,\u001b[49m\u001b[43m \u001b[49m\u001b[43mx\u001b[49m\u001b[38;5;241;43m.\u001b[39;49m\u001b[43mshape\u001b[49m\u001b[43m)\u001b[49m\n\u001b[1;32m     76\u001b[0m \u001b[38;5;28;01mreturn\u001b[39;00m _scatter_impl(x, y, scatter_op, treedef, static_idx, dynamic_idx,\n\u001b[1;32m     77\u001b[0m                      indices_are_sorted, unique_indices, mode,\n\u001b[1;32m     78\u001b[0m                      normalize_indices)\n",
      "File \u001b[0;32m/opt/homebrew/lib/python3.10/site-packages/jax/_src/numpy/lax_numpy.py:11495\u001b[0m, in \u001b[0;36m_split_index_for_jit\u001b[0;34m(idx, shape)\u001b[0m\n\u001b[1;32m  11491\u001b[0m   \u001b[38;5;28;01mraise\u001b[39;00m \u001b[38;5;167;01mTypeError\u001b[39;00m(\u001b[38;5;124mf\u001b[39m\u001b[38;5;124m\"\u001b[39m\u001b[38;5;124mJAX does not support string indexing; got \u001b[39m\u001b[38;5;132;01m{\u001b[39;00midx\u001b[38;5;132;01m=}\u001b[39;00m\u001b[38;5;124m\"\u001b[39m)\n\u001b[1;32m  11493\u001b[0m \u001b[38;5;66;03m# Expand any (concrete) boolean indices. We can then use advanced integer\u001b[39;00m\n\u001b[1;32m  11494\u001b[0m \u001b[38;5;66;03m# indexing logic to handle them.\u001b[39;00m\n\u001b[0;32m> 11495\u001b[0m idx \u001b[38;5;241m=\u001b[39m \u001b[43m_expand_bool_indices\u001b[49m\u001b[43m(\u001b[49m\u001b[43midx\u001b[49m\u001b[43m,\u001b[49m\u001b[43m \u001b[49m\u001b[43mshape\u001b[49m\u001b[43m)\u001b[49m\n\u001b[1;32m  11497\u001b[0m leaves, treedef \u001b[38;5;241m=\u001b[39m tree_flatten(idx)\n\u001b[1;32m  11498\u001b[0m dynamic \u001b[38;5;241m=\u001b[39m [\u001b[38;5;28;01mNone\u001b[39;00m] \u001b[38;5;241m*\u001b[39m \u001b[38;5;28mlen\u001b[39m(leaves)\n",
      "File \u001b[0;32m/opt/homebrew/lib/python3.10/site-packages/jax/_src/numpy/lax_numpy.py:11793\u001b[0m, in \u001b[0;36m_expand_bool_indices\u001b[0;34m(idx, shape)\u001b[0m\n\u001b[1;32m  11789\u001b[0m   abstract_i \u001b[38;5;241m=\u001b[39m core\u001b[38;5;241m.\u001b[39mget_aval(i)\n\u001b[1;32m  11791\u001b[0m \u001b[38;5;28;01mif\u001b[39;00m \u001b[38;5;129;01mnot\u001b[39;00m \u001b[38;5;28mtype\u001b[39m(abstract_i) \u001b[38;5;129;01mis\u001b[39;00m ConcreteArray:\n\u001b[1;32m  11792\u001b[0m   \u001b[38;5;66;03m# TODO(mattjj): improve this error by tracking _why_ the indices are not concrete\u001b[39;00m\n\u001b[0;32m> 11793\u001b[0m   \u001b[38;5;28;01mraise\u001b[39;00m errors\u001b[38;5;241m.\u001b[39mNonConcreteBooleanIndexError(abstract_i)\n\u001b[1;32m  11794\u001b[0m \u001b[38;5;28;01melif\u001b[39;00m _ndim(i) \u001b[38;5;241m==\u001b[39m \u001b[38;5;241m0\u001b[39m:\n\u001b[1;32m  11795\u001b[0m   out\u001b[38;5;241m.\u001b[39mappend(\u001b[38;5;28mbool\u001b[39m(i))\n",
      "\u001b[0;31mNonConcreteBooleanIndexError\u001b[0m: Array boolean indices must be concrete; got ShapedArray(bool[4])\n\nSee https://jax.readthedocs.io/en/latest/errors.html#jax.errors.NonConcreteBooleanIndexError"
     ]
    }
   ],
   "source": [
    "# Test out having different environments getting different actions\n",
    "different_actions = [NOOP, FORWARD, BACKWARD, LEFT, RIGHT]\n",
    "actions = jnp.array([[a for _ in range(4)] for a in different_actions])\n",
    "\n",
    "new_env_states, new_timesteps = jax.vmap(env.step, in_axes=(0, 0))(env_states, actions)"
   ]
  },
  {
   "cell_type": "code",
   "execution_count": null,
   "id": "8ea444fe",
   "metadata": {},
   "outputs": [],
   "source": []
  },
  {
   "cell_type": "code",
   "execution_count": null,
   "id": "cd1591b4",
   "metadata": {},
   "outputs": [],
   "source": []
  }
 ],
 "metadata": {
  "kernelspec": {
   "display_name": "Python 3 (ipykernel)",
   "language": "python",
   "name": "python3"
  },
  "language_info": {
   "codemirror_mode": {
    "name": "ipython",
    "version": 3
   },
   "file_extension": ".py",
   "mimetype": "text/x-python",
   "name": "python",
   "nbconvert_exporter": "python",
   "pygments_lexer": "ipython3",
   "version": "3.10.14"
  }
 },
 "nbformat": 4,
 "nbformat_minor": 5
}
