{
 "cells": [
  {
   "cell_type": "code",
   "execution_count": 1,
   "id": "92c1ff29",
   "metadata": {},
   "outputs": [],
   "source": [
    "import jax\n",
    "from jax import numpy as jnp\n",
    "from typing import Tuple\n",
    "import chex\n",
    "\n",
    "key = jax.random.key(0)"
   ]
  },
  {
   "cell_type": "code",
   "execution_count": 2,
   "id": "98b103e0",
   "metadata": {},
   "outputs": [],
   "source": [
    "from jumanji_env.environments.complex_orchard.constants import (\n",
    "    TREE_DISTANCE_ROW,\n",
    "    TREE_DISTANCE_COL,\n",
    "    TREE_VARIATION,\n",
    "    TREE_DIAMETER,\n",
    "    ORCHARD_FERTILITY,\n",
    "    ROBOT_DIAMETER,\n",
    "    BASKET_DIAMETER,\n",
    "    APPLE_DIAMETER,\n",
    "    APPLE_DENSITY,\n",
    ")\n",
    "\n",
    "from jumanji_env.environments.complex_orchard.generator import ComplexOrchardGenerator\n",
    "gen = ComplexOrchardGenerator(width=2000, height=1600, num_picker_bots=4)"
   ]
  },
  {
   "cell_type": "code",
   "execution_count": 3,
   "id": "0a580037",
   "metadata": {},
   "outputs": [
    {
     "data": {
      "text/plain": [
       "ComplexOrchardState(bots=ComplexOrchardBot(id=Array([0, 1, 2, 3], dtype=int32), position=Array([[ 400.,  200.],\n",
       "       [ 800.,  200.],\n",
       "       [1200.,  200.],\n",
       "       [1600.,  200.]], dtype=float32), diameter=Array([60, 60, 60, 60], dtype=int32, weak_type=True), holding=Array([-1, -1, -1, -1], dtype=int32, weak_type=True), job=Array([0., 0., 0., 0.], dtype=float32), orientation=Array([0., 0., 0., 0.], dtype=float32)), trees=ComplexOrchardTree(id=Array([ 0,  1,  2,  3,  4,  5,  6,  7,  8,  9, 10, 11, 12, 13, 14, 15, 16,\n",
       "       17, 18, 19, 20, 21, 22, 23, 24, 25, 26, 27, 28, 29], dtype=int32), position=Array([[ 164.54881,  226.81322],\n",
       "       [ 158.36102,  531.16876],\n",
       "       [ 164.56766,  851.78033],\n",
       "       [ 180.78163, 1191.3467 ],\n",
       "       [ 174.2184 , 1496.9141 ],\n",
       "       [ 495.22784,  219.73045],\n",
       "       [ 488.48328,  527.3298 ],\n",
       "       [ 476.9649 ,  863.4358 ],\n",
       "       [ 493.47452, 1190.8564 ],\n",
       "       [ 495.1007 , 1499.6929 ],\n",
       "       [ 821.54376,  228.9994 ],\n",
       "       [ 837.8113 ,  544.5668 ],\n",
       "       [ 802.78253,  858.004  ],\n",
       "       [ 809.39014, 1193.9318 ],\n",
       "       [ 807.2991 , 1525.6437 ],\n",
       "       [1106.5247 ,  233.63278],\n",
       "       [1143.2096 ,  535.17316],\n",
       "       [1129.851  ,  876.74585],\n",
       "       [1125.5222 , 1180.2378 ],\n",
       "       [1130.4834 , 1528.6852 ],\n",
       "       [1454.5408 ,  232.65633],\n",
       "       [1452.5447 ,  552.2849 ],\n",
       "       [1457.7358 ,  873.2566 ],\n",
       "       [1457.0398 , 1195.4197 ],\n",
       "       [1428.1946 , 1505.9996 ],\n",
       "       [1762.5059 ,  220.13051],\n",
       "       [1777.6777 ,  552.0519 ],\n",
       "       [1781.6107 ,  871.8605 ],\n",
       "       [1762.203  , 1170.9867 ],\n",
       "       [1775.4658 , 1491.6766 ]], dtype=float32), diameter=Array([35.285965, 36.330513, 42.294716, 43.34093 , 41.6633  , 41.87047 ,\n",
       "       45.244507, 40.80585 , 40.157166, 42.002003, 34.03479 , 42.40072 ,\n",
       "       40.86296 , 40.43634 , 42.503727, 45.974373, 45.546555, 42.654663,\n",
       "       40.395966, 36.78293 , 45.470993, 42.91369 , 42.86344 , 37.98158 ,\n",
       "       35.378952, 36.588165, 38.3452  , 32.37512 , 38.802845, 42.632412],      dtype=float32), fertility=Array([0.4276086 , 0.71888745, 0.0170058 , 0.8120779 , 0.02149904,\n",
       "       0.26490307, 0.904389  , 0.48451602, 0.86632955, 0.2091285 ,\n",
       "       0.43006754, 0.9168298 , 0.8090309 , 0.53028977, 0.34584677,\n",
       "       0.5402969 , 0.08790648, 0.15852547, 0.72012866, 0.6551764 ,\n",
       "       0.47532964, 0.3270694 , 0.33817172, 0.33507156, 0.8708385 ,\n",
       "       0.7201071 , 0.85573244, 0.5386989 , 0.4553944 , 0.68007934],      dtype=float32)), apples=ComplexOrchardApple(id=Array([   0,    1,    2, ..., 1047, 1048, 1049], dtype=int32), position=Array([[ 165.0497 ,  147.0864 ],\n",
       "       [ 184.38606,   94.74225],\n",
       "       [ 219.31143,   97.98033],\n",
       "       ...,\n",
       "       [1671.6632 , 1352.0825 ],\n",
       "       [1712.5088 , 1357.6346 ],\n",
       "       [1739.5782 , 1367.0548 ]], dtype=float32), diameter=Array([5.219956 , 4.8292975, 5.778276 , ..., 5.2807994, 5.934173 ,\n",
       "       4.5365653], dtype=float32), held=Array([False, False, False, ..., False, False, False], dtype=bool), collected=Array([False, False, False, ..., False, False, False], dtype=bool)), baskets=ComplexOrchardBasket(id=Array([0], dtype=int32), position=Array([[1000.,  100.]], dtype=float32), diameter=Array([100], dtype=int32, weak_type=True), held=Array([False], dtype=bool)), step_count=Array(0, dtype=int32), width=Array(2000, dtype=int32), height=Array(1600, dtype=int32), key=Array((), dtype=key<fry>) overlaying:\n",
       "[2562233961 1946702221])"
      ]
     },
     "execution_count": 3,
     "metadata": {},
     "output_type": "execute_result"
    }
   ],
   "source": [
    "state = gen.sample_orchard(key)\n",
    "state"
   ]
  },
  {
   "cell_type": "code",
   "execution_count": 4,
   "id": "4bb1c0c9",
   "metadata": {},
   "outputs": [
    {
     "name": "stderr",
     "output_type": "stream",
     "text": [
      "/opt/homebrew/lib/python3.10/site-packages/tqdm/auto.py:22: TqdmWarning: IProgress not found. Please update jupyter and ipywidgets. See https://ipywidgets.readthedocs.io/en/stable/user_install.html\n",
      "  from .autonotebook import tqdm as notebook_tqdm\n"
     ]
    },
    {
     "data": {
      "text/plain": [
       "ComplexOrchardObservation(agents_view=Array([[ 12.440796  ,  -6.9968567 ,  -0.5123229 ],\n",
       "       [-16.079834  , -24.022705  ,  -2.1606612 ],\n",
       "       [ -1.064331  ,   0.16418457,   2.988538  ],\n",
       "       [  1.201294  ,  10.579575  ,   1.4577324 ]], dtype=float32), action_mask=Array([[ True,  True,  True,  True,  True,  True,  True],\n",
       "       [ True, False, False,  True,  True,  True,  True],\n",
       "       [ True,  True,  True,  True,  True,  True,  True],\n",
       "       [ True,  True,  True,  True,  True,  True,  True]], dtype=bool), step_count=Array(0, dtype=int32))"
      ]
     },
     "execution_count": 4,
     "metadata": {},
     "output_type": "execute_result"
    }
   ],
   "source": [
    "from jumanji_env.environments.complex_orchard.observer import BasicObserver\n",
    "\n",
    "observer = BasicObserver(4, 2000, 1600, 4)\n",
    "\n",
    "observer.state_to_observation(state)"
   ]
  },
  {
   "cell_type": "code",
   "execution_count": 5,
   "id": "08247036",
   "metadata": {},
   "outputs": [
    {
     "data": {
      "text/plain": [
       "(Array([[[4.030e+02, 2.000e+02, 1.000e+00],\n",
       "         [3.970e+02, 2.000e+02, 1.000e+00]],\n",
       " \n",
       "        [[8.030e+02, 2.000e+02, 0.000e+00],\n",
       "         [7.970e+02, 2.000e+02, 0.000e+00]],\n",
       " \n",
       "        [[1.203e+03, 2.000e+02, 1.000e+00],\n",
       "         [1.197e+03, 2.000e+02, 1.000e+00]],\n",
       " \n",
       "        [[1.603e+03, 2.000e+02, 1.000e+00],\n",
       "         [1.597e+03, 2.000e+02, 1.000e+00]]], dtype=float32),\n",
       " Array([False, False, False, False], dtype=bool),\n",
       " Array([False,  True, False, False], dtype=bool))"
      ]
     },
     "execution_count": 5,
     "metadata": {},
     "output_type": "execute_result"
    }
   ],
   "source": [
    "from jumanji_env.environments.complex_orchard.utils import bots_possible_moves\n",
    "\n",
    "new_positions = bots_possible_moves(state)\n",
    "new_positions"
   ]
  },
  {
   "cell_type": "code",
   "execution_count": 6,
   "id": "51da0cde",
   "metadata": {},
   "outputs": [],
   "source": [
    "from jumanji_env.environments.complex_orchard.env import ComplexOrchard\n",
    "\n",
    "env = ComplexOrchard(generator=gen)\n",
    "\n",
    "state, timestep = env.reset(key)"
   ]
  },
  {
   "cell_type": "code",
   "execution_count": 7,
   "id": "53caf55c",
   "metadata": {},
   "outputs": [
    {
     "data": {
      "text/plain": [
       "(ComplexOrchardState(bots=ComplexOrchardBot(id=Array([0, 1, 2, 3], dtype=int32), position=Array([[ 400.,  200.],\n",
       "        [ 800.,  200.],\n",
       "        [1200.,  200.],\n",
       "        [1600.,  200.]], dtype=float32), diameter=Array([60, 60, 60, 60], dtype=int32, weak_type=True), holding=Array([-1, -1, -1, -1], dtype=int32, weak_type=True), job=Array([0., 0., 0., 0.], dtype=float32), orientation=Array([0., 0., 0., 0.], dtype=float32)), trees=ComplexOrchardTree(id=Array([ 0,  1,  2,  3,  4,  5,  6,  7,  8,  9, 10, 11, 12, 13, 14, 15, 16,\n",
       "        17, 18, 19, 20, 21, 22, 23, 24, 25, 26, 27, 28, 29], dtype=int32), position=Array([[ 164.54881,  226.81322],\n",
       "        [ 158.36102,  531.16876],\n",
       "        [ 164.56766,  851.78033],\n",
       "        [ 180.78163, 1191.3467 ],\n",
       "        [ 174.2184 , 1496.9141 ],\n",
       "        [ 495.22784,  219.73045],\n",
       "        [ 488.48328,  527.3298 ],\n",
       "        [ 476.9649 ,  863.4358 ],\n",
       "        [ 493.47452, 1190.8564 ],\n",
       "        [ 495.1007 , 1499.6929 ],\n",
       "        [ 821.54376,  228.9994 ],\n",
       "        [ 837.8113 ,  544.5668 ],\n",
       "        [ 802.78253,  858.004  ],\n",
       "        [ 809.39014, 1193.9318 ],\n",
       "        [ 807.2991 , 1525.6437 ],\n",
       "        [1106.5247 ,  233.63278],\n",
       "        [1143.2096 ,  535.17316],\n",
       "        [1129.851  ,  876.74585],\n",
       "        [1125.5222 , 1180.2378 ],\n",
       "        [1130.4834 , 1528.6852 ],\n",
       "        [1454.5408 ,  232.65633],\n",
       "        [1452.5447 ,  552.2849 ],\n",
       "        [1457.7358 ,  873.2566 ],\n",
       "        [1457.0398 , 1195.4197 ],\n",
       "        [1428.1946 , 1505.9996 ],\n",
       "        [1762.5059 ,  220.13051],\n",
       "        [1777.6777 ,  552.0519 ],\n",
       "        [1781.6107 ,  871.8605 ],\n",
       "        [1762.203  , 1170.9867 ],\n",
       "        [1775.4658 , 1491.6766 ]], dtype=float32), diameter=Array([35.285965, 36.330513, 42.294716, 43.34093 , 41.6633  , 41.87047 ,\n",
       "        45.244507, 40.80585 , 40.157166, 42.002003, 34.03479 , 42.40072 ,\n",
       "        40.86296 , 40.43634 , 42.503727, 45.974373, 45.546555, 42.654663,\n",
       "        40.395966, 36.78293 , 45.470993, 42.91369 , 42.86344 , 37.98158 ,\n",
       "        35.378952, 36.588165, 38.3452  , 32.37512 , 38.802845, 42.632412],      dtype=float32), fertility=Array([0.4276086 , 0.71888745, 0.0170058 , 0.8120779 , 0.02149904,\n",
       "        0.26490307, 0.904389  , 0.48451602, 0.86632955, 0.2091285 ,\n",
       "        0.43006754, 0.9168298 , 0.8090309 , 0.53028977, 0.34584677,\n",
       "        0.5402969 , 0.08790648, 0.15852547, 0.72012866, 0.6551764 ,\n",
       "        0.47532964, 0.3270694 , 0.33817172, 0.33507156, 0.8708385 ,\n",
       "        0.7201071 , 0.85573244, 0.5386989 , 0.4553944 , 0.68007934],      dtype=float32)), apples=ComplexOrchardApple(id=Array([   0,    1,    2, ..., 1047, 1048, 1049], dtype=int32), position=Array([[ 165.0497 ,  147.0864 ],\n",
       "        [ 184.38606,   94.74225],\n",
       "        [ 219.31143,   97.98033],\n",
       "        ...,\n",
       "        [1671.6632 , 1352.0825 ],\n",
       "        [1712.5088 , 1357.6346 ],\n",
       "        [1739.5782 , 1367.0548 ]], dtype=float32), diameter=Array([5.219956 , 4.8292975, 5.778276 , ..., 5.2807994, 5.934173 ,\n",
       "        4.5365653], dtype=float32), held=Array([False, False, False, ..., False, False, False], dtype=bool), collected=Array([False, False, False, ..., False, False, False], dtype=bool)), baskets=ComplexOrchardBasket(id=Array([0], dtype=int32), position=Array([[1000.,  100.]], dtype=float32), diameter=Array([100], dtype=int32, weak_type=True), held=Array([False], dtype=bool)), step_count=Array(1, dtype=int32), width=Array(2000, dtype=int32), height=Array(1600, dtype=int32), key=Array((), dtype=key<fry>) overlaying:\n",
       " [2562233961 1946702221]),\n",
       " TimeStep(step_type=Array(1, dtype=int8), reward=Array([-0.2      , -2.1999998, -0.2      , -0.2      ],      dtype=float32, weak_type=True), discount=Array([1., 1., 1., 1.], dtype=float32), observation=ComplexOrchardObservation(agents_view=Array([[ 1.2440796e+01, -6.9968567e+00, -5.1232290e-01,  6.0000000e+02,\n",
       "         -1.0000000e+02, -1.6514874e-01,  4.0000000e+02,  0.0000000e+00,\n",
       "          0.0000000e+00],\n",
       "        [-1.6079834e+01, -2.4022705e+01, -2.1606612e+00,  2.0000000e+02,\n",
       "         -1.0000000e+02, -4.6364760e-01, -4.0000000e+02,  0.0000000e+00,\n",
       "          3.1415923e+00],\n",
       "        [-1.0643311e+00,  1.6418457e-01,  2.9885380e+00, -2.0000000e+02,\n",
       "         -1.0000000e+02, -2.6779451e+00, -4.0000000e+02,  0.0000000e+00,\n",
       "          3.1415923e+00],\n",
       "        [ 1.2012939e+00,  1.0579575e+01,  1.4577324e+00, -6.0000000e+02,\n",
       "         -1.0000000e+02, -2.9764440e+00, -4.0000000e+02,  0.0000000e+00,\n",
       "          3.1415923e+00]], dtype=float32), action_mask=Array([[ True,  True,  True,  True,  True,  True,  True],\n",
       "        [ True, False, False,  True,  True,  True,  True],\n",
       "        [ True,  True,  True,  True,  True,  True,  True],\n",
       "        [ True,  True,  True,  True,  True,  True,  True]], dtype=bool), step_count=Array(1, dtype=int32)), extras={'percent_collected': Array(0., dtype=float32), 'number_picked': Array(0, dtype=int32)}))"
      ]
     },
     "execution_count": 7,
     "metadata": {},
     "output_type": "execute_result"
    }
   ],
   "source": [
    "from jumanji_env.environments.complex_orchard.constants import (\n",
    "    NOOP,\n",
    "    FORWARD,\n",
    "    BACKWARD,\n",
    "    LEFT,\n",
    "    RIGHT,\n",
    ")\n",
    "\n",
    "action = jnp.repeat(NOOP, 4)\n",
    "env.step(state, action)"
   ]
  },
  {
   "cell_type": "code",
   "execution_count": 44,
   "id": "8fdd6079",
   "metadata": {},
   "outputs": [],
   "source": [
    "# Now try stacking multiple environments together\n",
    "\n",
    "keys = jax.random.split(key, 5)\n",
    "env_states, timesteps = jax.vmap(env.reset, in_axes=(0))(\n",
    "    jnp.stack(keys),\n",
    ")"
   ]
  },
  {
   "cell_type": "code",
   "execution_count": 45,
   "id": "72867165",
   "metadata": {},
   "outputs": [],
   "source": [
    "# Test out having different environments getting different actions\n",
    "different_actions = [NOOP, FORWARD, BACKWARD, LEFT, RIGHT]\n",
    "actions = jnp.array([[a for _ in range(4)] for a in different_actions])\n",
    "\n",
    "new_env_states, new_timesteps = jax.vmap(env.step, in_axes=(0, 0))(env_states, actions)"
   ]
  },
  {
   "cell_type": "code",
   "execution_count": 10,
   "id": "bc77deaa",
   "metadata": {
    "scrolled": false
   },
   "outputs": [
    {
     "name": "stdout",
     "output_type": "stream",
     "text": [
      "Seed 0 collected 51.43%\n",
      "Seed 1 collected 54.29%\n",
      "Seed 2 collected 48.57%\n",
      "Seed 3 collected 51.43%\n",
      "Seed 4 collected 51.43%\n",
      "Seed 5 collected 54.29%\n",
      "Seed 6 collected 54.29%\n",
      "Seed 7 collected 54.29%\n",
      "Seed 8 collected 54.29%\n",
      "Seed 9 collected 11.43%\n",
      "A Star collected 48.57% (2497.0341551303864 wall time) in 2.5 simulated minutes\n"
     ]
    }
   ],
   "source": [
    "# This takes a LONG time to run!\n",
    "\n",
    "from jumanji_env.environments.complex_orchard.astar_solver import AStarSolver\n",
    "from jumanji_env.environments.complex_orchard.constants import TICK_SPEED\n",
    "import time\n",
    "\n",
    "eval_gen = ComplexOrchardGenerator(width=500, height=500, num_picker_bots=2)\n",
    "\n",
    "NUM_EVALS = 10\n",
    "avg_collected = 0\n",
    "start_time = time.time()\n",
    "\n",
    "for i in range(NUM_EVALS):\n",
    "    seed = i + 10\n",
    "    solver = AStarSolver(eval_gen, seed)\n",
    "    percent_collected = solver.simulate(1500)\n",
    "    \n",
    "    print(f'Seed {seed} collected {percent_collected:.2f}%')\n",
    "    avg_collected += percent_collected / NUM_EVALS\n",
    "\n",
    "wall_time = time.time() - start_time\n",
    "print(f'A Star collected {avg_collected:.2f}% ({wall_time} wall time) in 2.5 simulated minutes')"
   ]
  },
  {
   "cell_type": "code",
   "execution_count": 11,
   "id": "c18c9c3a",
   "metadata": {},
   "outputs": [
    {
     "name": "stdout",
     "output_type": "stream",
     "text": [
      "33\n",
      "35\n"
     ]
    }
   ],
   "source": [
    "import json\n",
    "from simulation.orchard import OrchardComplex2D\n",
    "\n",
    "stored = '{\"width\": 500, \"height\": 500, \"seed\": 0, \"time\": 4088, \"bots\": [{\"x\": 210.5732879638672, \"y\": 177.29385375976562, \"diameter\": 60, \"holding\": 12, \"job\": \"picker\", \"orientation\": -1.0471975803375244}, {\"x\": 299.6589050292969, \"y\": 197.19842529296875, \"diameter\": 60, \"holding\": 9, \"job\": \"picker\", \"orientation\": -2.094395160675049}], \"trees\": [{\"x\": 219.70751953125, \"y\": 334.7588195800781, \"diameter\": 40.51554870605469}], \"baskets\": [{\"x\": 250.0, \"y\": 100.0, \"diameter\": 100, \"held\": false, \"collected\": false}], \"apples\": [{\"x\": 292.05035400390625, \"y\": 138.4942169189453, \"diameter\": 5.224129676818848, \"held\": false, \"collected\": true}, {\"x\": 282.29742431640625, \"y\": 146.67076110839844, \"diameter\": 5.918465614318848, \"held\": false, \"collected\": true}, {\"x\": 277.4336853027344, \"y\": 150.314697265625, \"diameter\": 4.143068313598633, \"held\": false, \"collected\": true}, {\"x\": 276.6600036621094, \"y\": 150.88446044921875, \"diameter\": 6.100149154663086, \"held\": false, \"collected\": true}, {\"x\": 277.0805358886719, \"y\": 149.37477111816406, \"diameter\": 4.908559799194336, \"held\": false, \"collected\": true}, {\"x\": 266.8163757324219, \"y\": 156.47422790527344, \"diameter\": 6.466621398925781, \"held\": false, \"collected\": true}, {\"x\": 277.7527160644531, \"y\": 150.7341766357422, \"diameter\": 4.312686920166016, \"held\": false, \"collected\": true}, {\"x\": 266.75421142578125, \"y\": 155.98068237304688, \"diameter\": 5.1193647384643555, \"held\": false, \"collected\": true}, {\"x\": 269.9568176269531, \"y\": 152.66725158691406, \"diameter\": 5.868011474609375, \"held\": false, \"collected\": true}, {\"x\": 287.4568176269531, \"y\": 169.7920684814453, \"diameter\": 5.809104919433594, \"held\": true, \"collected\": false}, {\"x\": 296.4330749511719, \"y\": 136.27197265625, \"diameter\": 3.4358057975769043, \"held\": false, \"collected\": true}, {\"x\": 271.32916259765625, \"y\": 152.822265625, \"diameter\": 5.647130489349365, \"held\": false, \"collected\": true}, {\"x\": 224.0732879638672, \"y\": 153.9111785888672, \"diameter\": 4.892746925354004, \"held\": true, \"collected\": false}, {\"x\": 224.9587860107422, \"y\": 152.01971435546875, \"diameter\": 5.447516918182373, \"held\": false, \"collected\": true}, {\"x\": 266.99237060546875, \"y\": 155.0208282470703, \"diameter\": 5.300501823425293, \"held\": false, \"collected\": true}, {\"x\": 222.32864379882812, \"y\": 150.56060791015625, \"diameter\": 5.968918800354004, \"held\": false, \"collected\": true}, {\"x\": 272.2357177734375, \"y\": 154.35313415527344, \"diameter\": 6.829443454742432, \"held\": false, \"collected\": true}, {\"x\": 222.12884521484375, \"y\": 151.05352783203125, \"diameter\": 5.560314655303955, \"held\": false, \"collected\": true}, {\"x\": 224.972900390625, \"y\": 152.6625518798828, \"diameter\": 5.3172478675842285, \"held\": false, \"collected\": true}, {\"x\": 219.2754364013672, \"y\": 147.6256103515625, \"diameter\": 4.761844635009766, \"held\": false, \"collected\": true}, {\"x\": 224.59046936035156, \"y\": 152.1255645751953, \"diameter\": 4.875090599060059, \"held\": false, \"collected\": true}, {\"x\": 218.17922973632812, \"y\": 148.5032196044922, \"diameter\": 4.25541877746582, \"held\": false, \"collected\": true}, {\"x\": 215.25230407714844, \"y\": 145.820068359375, \"diameter\": 4.428750038146973, \"held\": false, \"collected\": true}, {\"x\": 220.0056915283203, \"y\": 149.2542724609375, \"diameter\": 5.080661773681641, \"held\": false, \"collected\": true}, {\"x\": 214.275146484375, \"y\": 146.63134765625, \"diameter\": 4.319875240325928, \"held\": false, \"collected\": true}, {\"x\": 217.0486602783203, \"y\": 147.61203002929688, \"diameter\": 5.780456066131592, \"held\": false, \"collected\": true}, {\"x\": 210.30020141601562, \"y\": 142.0749053955078, \"diameter\": 4.1222710609436035, \"held\": false, \"collected\": true}, {\"x\": 205.52023315429688, \"y\": 138.11996459960938, \"diameter\": 3.4948997497558594, \"held\": false, \"collected\": true}, {\"x\": 212.85874938964844, \"y\": 142.03475952148438, \"diameter\": 4.4725799560546875, \"held\": false, \"collected\": true}, {\"x\": 218.28762817382812, \"y\": 147.01902770996094, \"diameter\": 5.3883137702941895, \"held\": false, \"collected\": true}, {\"x\": 250.8977813720703, \"y\": 157.10797119140625, \"diameter\": 4.282293319702148, \"held\": false, \"collected\": true}, {\"x\": 263.97723388671875, \"y\": 155.98333740234375, \"diameter\": 5.383018970489502, \"held\": false, \"collected\": true}, {\"x\": 253.28762817382812, \"y\": 158.221435546875, \"diameter\": 2.981675148010254, \"held\": false, \"collected\": true}, {\"x\": 263.97723388671875, \"y\": 155.98333740234375, \"diameter\": 4.358050346374512, \"held\": false, \"collected\": true}, {\"x\": 260.3659362792969, \"y\": 157.31910705566406, \"diameter\": 4.419834613800049, \"held\": false, \"collected\": true}], \"TICK_SPEED\": 10}'\n",
    "stored_dict = json.loads(stored)\n",
    "\n",
    "print(len([\n",
    "    i\n",
    "    for i, apple in enumerate(stored_dict['apples'])\n",
    "    if apple['collected']\n",
    "]))\n",
    "print(len(stored_dict['apples']))\n",
    "\n",
    "old_env = OrchardComplex2D(stored_dict['width'], stored_dict['height'], 2, 0, 1, 0)\n",
    "old_env.trees = stored_dict['trees']\n",
    "old_env.baskets = stored_dict['baskets']\n",
    "old_env.apples = stored_dict['apples']\n",
    "old_env.bots = stored_dict['bots']\n",
    "\n",
    "old_env.try_pick(0)"
   ]
  },
  {
   "cell_type": "code",
   "execution_count": 8,
   "id": "4debfbb0",
   "metadata": {},
   "outputs": [
    {
     "name": "stdout",
     "output_type": "stream",
     "text": [
      "0\n",
      "100\n",
      "200\n",
      "300\n",
      "400\n",
      "500\n",
      "600\n",
      "700\n",
      "800\n",
      "900\n",
      "1000\n",
      "1100\n",
      "1200\n",
      "1300\n",
      "1400\n"
     ]
    }
   ],
   "source": [
    "import json\n",
    "import jax\n",
    "from apple_mava.log_dicts import create_complex_dict\n",
    "\n",
    "random_gen = ComplexOrchardGenerator(width=500, height=500, num_picker_bots=2)\n",
    "random_env = ComplexOrchard(generator=random_gen)\n",
    "\n",
    "random_state, timestep = random_env.reset(key)\n",
    "stored_states = [create_complex_dict(random_state, 0)]\n",
    "current_key = key\n",
    "\n",
    "for i in range(1500):\n",
    "    if i % 100 == 0:\n",
    "        print(i)\n",
    "        \n",
    "    actions = jax.random.randint(current_key, (2,), 0, 6)\n",
    "    random_state, timestep = random_env.step(random_state, actions)\n",
    "    stored_states.append(create_complex_dict(random_state, 0))\n",
    "    \n",
    "    current_key = jax.random.split(current_key, 1)[0]\n",
    "    \n",
    "with open('random.json', 'w') as f:\n",
    "    f.write(json.dumps(stored_states))"
   ]
  },
  {
   "cell_type": "code",
   "execution_count": null,
   "id": "1a470e8e",
   "metadata": {},
   "outputs": [],
   "source": []
  }
 ],
 "metadata": {
  "kernelspec": {
   "display_name": "Python 3 (ipykernel)",
   "language": "python",
   "name": "python3"
  },
  "language_info": {
   "codemirror_mode": {
    "name": "ipython",
    "version": 3
   },
   "file_extension": ".py",
   "mimetype": "text/x-python",
   "name": "python",
   "nbconvert_exporter": "python",
   "pygments_lexer": "ipython3",
   "version": "3.10.14"
  }
 },
 "nbformat": 4,
 "nbformat_minor": 5
}
